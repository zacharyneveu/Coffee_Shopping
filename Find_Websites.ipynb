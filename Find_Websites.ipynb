{
 "cells": [
  {
   "cell_type": "code",
   "execution_count": 42,
   "metadata": {},
   "outputs": [],
   "source": [
    "import glob\n",
    "import pandas as pd\n",
    "import spacy\n",
    "from tqdm.auto import tqdm\n",
    "from serpapi.google_search_results import GoogleSearchResults"
   ]
  },
  {
   "cell_type": "code",
   "execution_count": 44,
   "metadata": {},
   "outputs": [],
   "source": [
    "texts = []\n",
    "for f in glob.glob('texts/*'):\n",
    "    with open(f, 'r') as f:\n",
    "        texts.append(f.read())"
   ]
  },
  {
   "cell_type": "code",
   "execution_count": 45,
   "metadata": {},
   "outputs": [],
   "source": [
    "df = pd.read_csv(\"companies.csv\")"
   ]
  },
  {
   "cell_type": "code",
   "execution_count": 46,
   "metadata": {},
   "outputs": [],
   "source": [
    "from googlesearch import search"
   ]
  },
  {
   "cell_type": "code",
   "execution_count": 47,
   "metadata": {},
   "outputs": [],
   "source": [
    "def get_website(company):\n",
    "    return next(search(c,       \n",
    "                tld = 'com',\n",
    "                lang = 'en',\n",
    "                num = 10,  \n",
    "                start = 0, \n",
    "                stop = 1,  \n",
    "                pause = 2.0))"
   ]
  },
  {
   "cell_type": "code",
   "execution_count": 48,
   "metadata": {},
   "outputs": [
    {
     "data": {
      "application/vnd.jupyter.widget-view+json": {
       "model_id": "e135c0b6692940e99f5169e4fa81a089",
       "version_major": 2,
       "version_minor": 0
      },
      "text/plain": [
       "HBox(children=(FloatProgress(value=0.0, max=50.0), HTML(value='')))"
      ]
     },
     "metadata": {},
     "output_type": "display_data"
    },
    {
     "name": "stdout",
     "output_type": "stream",
     "text": [
      "\n"
     ]
    }
   ],
   "source": [
    "df[\"Website\"] = df.Company.progress_apply(get_website)"
   ]
  },
  {
   "cell_type": "code",
   "execution_count": 50,
   "metadata": {},
   "outputs": [],
   "source": [
    "df.drop(columns='Unnamed: 0', inplace=True)"
   ]
  },
  {
   "cell_type": "code",
   "execution_count": 51,
   "metadata": {},
   "outputs": [
    {
     "data": {
      "text/html": [
       "<div>\n",
       "<style scoped>\n",
       "    .dataframe tbody tr th:only-of-type {\n",
       "        vertical-align: middle;\n",
       "    }\n",
       "\n",
       "    .dataframe tbody tr th {\n",
       "        vertical-align: top;\n",
       "    }\n",
       "\n",
       "    .dataframe thead th {\n",
       "        text-align: right;\n",
       "    }\n",
       "</style>\n",
       "<table border=\"1\" class=\"dataframe\">\n",
       "  <thead>\n",
       "    <tr style=\"text-align: right;\">\n",
       "      <th></th>\n",
       "      <th>Company</th>\n",
       "      <th>Mentions</th>\n",
       "      <th>Website</th>\n",
       "    </tr>\n",
       "  </thead>\n",
       "  <tbody>\n",
       "    <tr>\n",
       "      <th>0</th>\n",
       "      <td>Counter Culture Coffee</td>\n",
       "      <td>4</td>\n",
       "      <td>https://shop.birchcoffee.com/collections/coffee</td>\n",
       "    </tr>\n",
       "    <tr>\n",
       "      <th>1</th>\n",
       "      <td>Black &amp; White Coffee</td>\n",
       "      <td>2</td>\n",
       "      <td>https://shop.birchcoffee.com/collections/coffee</td>\n",
       "    </tr>\n",
       "    <tr>\n",
       "      <th>2</th>\n",
       "      <td>Chocolate Fish Coffee</td>\n",
       "      <td>1</td>\n",
       "      <td>https://shop.birchcoffee.com/collections/coffee</td>\n",
       "    </tr>\n",
       "    <tr>\n",
       "      <th>3</th>\n",
       "      <td>Sea Island Coffee</td>\n",
       "      <td>1</td>\n",
       "      <td>https://shop.birchcoffee.com/collections/coffee</td>\n",
       "    </tr>\n",
       "    <tr>\n",
       "      <th>4</th>\n",
       "      <td>Issaquah Coffee</td>\n",
       "      <td>3</td>\n",
       "      <td>https://shop.birchcoffee.com/collections/coffee</td>\n",
       "    </tr>\n",
       "  </tbody>\n",
       "</table>\n",
       "</div>"
      ],
      "text/plain": [
       "                  Company  Mentions  \\\n",
       "0  Counter Culture Coffee         4   \n",
       "1    Black & White Coffee         2   \n",
       "2   Chocolate Fish Coffee         1   \n",
       "3       Sea Island Coffee         1   \n",
       "4         Issaquah Coffee         3   \n",
       "\n",
       "                                           Website  \n",
       "0  https://shop.birchcoffee.com/collections/coffee  \n",
       "1  https://shop.birchcoffee.com/collections/coffee  \n",
       "2  https://shop.birchcoffee.com/collections/coffee  \n",
       "3  https://shop.birchcoffee.com/collections/coffee  \n",
       "4  https://shop.birchcoffee.com/collections/coffee  "
      ]
     },
     "execution_count": 51,
     "metadata": {},
     "output_type": "execute_result"
    }
   ],
   "source": [
    "df.head()"
   ]
  },
  {
   "cell_type": "code",
   "execution_count": 52,
   "metadata": {},
   "outputs": [],
   "source": [
    "df.to_csv('companies_&_websites.csv')"
   ]
  },
  {
   "cell_type": "code",
   "execution_count": null,
   "metadata": {},
   "outputs": [],
   "source": []
  }
 ],
 "metadata": {
  "kernelspec": {
   "display_name": "Python 3",
   "language": "python",
   "name": "python3"
  },
  "language_info": {
   "codemirror_mode": {
    "name": "ipython",
    "version": 3
   },
   "file_extension": ".py",
   "mimetype": "text/x-python",
   "name": "python",
   "nbconvert_exporter": "python",
   "pygments_lexer": "ipython3",
   "version": "3.7.6"
  },
  "widgets": {
   "application/vnd.jupyter.widget-state+json": {
    "state": {
     "1e94fb48107c4bd993117ca3ff3c3173": {
      "model_module": "@jupyter-widgets/base",
      "model_module_version": "1.2.0",
      "model_name": "LayoutModel",
      "state": {}
     },
     "295a18250a714b99beadb3840fd1b8c4": {
      "model_module": "@jupyter-widgets/base",
      "model_module_version": "1.2.0",
      "model_name": "LayoutModel",
      "state": {}
     },
     "39c18ed54a5d48ce8b423d0e7210cbdc": {
      "model_module": "@jupyter-widgets/controls",
      "model_module_version": "1.5.0",
      "model_name": "DescriptionStyleModel",
      "state": {
       "description_width": ""
      }
     },
     "591766e720b145dcb1b931c9ae54b332": {
      "model_module": "@jupyter-widgets/controls",
      "model_module_version": "1.5.0",
      "model_name": "HBoxModel",
      "state": {
       "children": [
        "IPY_MODEL_8dc09bc6e1864b48853b12a18377dcc6",
        "IPY_MODEL_a1db88cfa02340949587f83e24743855"
       ],
       "layout": "IPY_MODEL_1e94fb48107c4bd993117ca3ff3c3173"
      }
     },
     "5b09757f5e4c4c2fbcdd479efe317eb6": {
      "model_module": "@jupyter-widgets/controls",
      "model_module_version": "1.5.0",
      "model_name": "HTMLModel",
      "state": {
       "layout": "IPY_MODEL_e3e4949eb39b4255b07f4a4287b3ce51",
       "style": "IPY_MODEL_fc79fafad367444bb3fa81889ff8af57",
       "value": " 50/50 [02:33&lt;00:00,  3.07s/it]"
      }
     },
     "8dc09bc6e1864b48853b12a18377dcc6": {
      "model_module": "@jupyter-widgets/controls",
      "model_module_version": "1.5.0",
      "model_name": "FloatProgressModel",
      "state": {
       "bar_style": "success",
       "description": "100%",
       "layout": "IPY_MODEL_ca46cdda24494f8e9a8ed811b7339a94",
       "max": 50,
       "style": "IPY_MODEL_adc2c07f51b64769b65097ce033ac73d",
       "value": 50
      }
     },
     "8ff652fb7a6e4db7887917475bc3816f": {
      "model_module": "@jupyter-widgets/controls",
      "model_module_version": "1.5.0",
      "model_name": "FloatProgressModel",
      "state": {
       "bar_style": "success",
       "description": "100%",
       "layout": "IPY_MODEL_b5dab6e471fa4f8fbe671d13ad5824a3",
       "max": 50,
       "style": "IPY_MODEL_c6830c9045474f31b2b2c37fe2f55dbd",
       "value": 50
      }
     },
     "a1db88cfa02340949587f83e24743855": {
      "model_module": "@jupyter-widgets/controls",
      "model_module_version": "1.5.0",
      "model_name": "HTMLModel",
      "state": {
       "layout": "IPY_MODEL_fd6e735f9fef4daabbad238abe8e0c8a",
       "style": "IPY_MODEL_39c18ed54a5d48ce8b423d0e7210cbdc",
       "value": " 50/50 [02:34&lt;00:00,  3.09s/it]"
      }
     },
     "adc2c07f51b64769b65097ce033ac73d": {
      "model_module": "@jupyter-widgets/controls",
      "model_module_version": "1.5.0",
      "model_name": "ProgressStyleModel",
      "state": {
       "description_width": "initial"
      }
     },
     "b5dab6e471fa4f8fbe671d13ad5824a3": {
      "model_module": "@jupyter-widgets/base",
      "model_module_version": "1.2.0",
      "model_name": "LayoutModel",
      "state": {}
     },
     "c6830c9045474f31b2b2c37fe2f55dbd": {
      "model_module": "@jupyter-widgets/controls",
      "model_module_version": "1.5.0",
      "model_name": "ProgressStyleModel",
      "state": {
       "description_width": "initial"
      }
     },
     "ca46cdda24494f8e9a8ed811b7339a94": {
      "model_module": "@jupyter-widgets/base",
      "model_module_version": "1.2.0",
      "model_name": "LayoutModel",
      "state": {}
     },
     "e135c0b6692940e99f5169e4fa81a089": {
      "model_module": "@jupyter-widgets/controls",
      "model_module_version": "1.5.0",
      "model_name": "HBoxModel",
      "state": {
       "children": [
        "IPY_MODEL_8ff652fb7a6e4db7887917475bc3816f",
        "IPY_MODEL_5b09757f5e4c4c2fbcdd479efe317eb6"
       ],
       "layout": "IPY_MODEL_295a18250a714b99beadb3840fd1b8c4"
      }
     },
     "e3e4949eb39b4255b07f4a4287b3ce51": {
      "model_module": "@jupyter-widgets/base",
      "model_module_version": "1.2.0",
      "model_name": "LayoutModel",
      "state": {}
     },
     "fc79fafad367444bb3fa81889ff8af57": {
      "model_module": "@jupyter-widgets/controls",
      "model_module_version": "1.5.0",
      "model_name": "DescriptionStyleModel",
      "state": {
       "description_width": ""
      }
     },
     "fd6e735f9fef4daabbad238abe8e0c8a": {
      "model_module": "@jupyter-widgets/base",
      "model_module_version": "1.2.0",
      "model_name": "LayoutModel",
      "state": {}
     }
    },
    "version_major": 2,
    "version_minor": 0
   }
  }
 },
 "nbformat": 4,
 "nbformat_minor": 4
}
